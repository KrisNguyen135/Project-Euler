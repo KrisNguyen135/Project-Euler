{
 "cells": [
  {
   "cell_type": "markdown",
   "metadata": {},
   "source": [
    "# Project Euler Problem 234: _Semidivisible numbers_\n",
    "\n",
    "Link to original problem prompt: [https://projecteuler.net/problem=234](https://projecteuler.net/problem=234)\n",
    "\n",
    "## Approach\n",
    "\n",
    "Some might be tempted to loop through all integers not exceeding 999966663333 and check to see if each is semidivisible or not (by computing its _lower prime square root_ and _upper prime square root_). A faster approach relies on the fact that given two consecutive prime numbers, it is possible to work out all semidivisible numbers between them, and finally compute their sum.\n",
    "\n",
    "### Semidivisible numbers between two consecutive prime numbers\n",
    "\n",
    "Given that $p$ and $q$ are two consecutive prime numbers, we see that every integer $n$ such that $p < n < q$ have the same lower prime square root (specifically $p$) and also the same upper prime square root (specifically $q$). This means that if we divide our search space into sections between pairs of consecutive prime numbers, we can exhaust all semidivisible numbers in question.\n",
    "\n",
    "The goal now is,  given $p$ and $q$, to calculate the sum of all semidivisible numbers between them. This is simply the sum of all numbers divisible by $p$ or $q$ but not by $p$ and $q$. Since $p$ and $q$ are prime numbers, if $n$ is divisible by both $p$ and $q$, it is also divisible by $p * q$. The question is now reduced to an algorithm that computes the sum of all multiples of a given integer $p$ inside a specific range.\n",
    "\n",
    "\\begin{align}\n",
    "S & = p * n\\ +\\ p * (n + 1)\\ +\\ ...\\ +\\ p * m\\\\\n",
    "& = p * (n\\ +\\ (n + 1)\\ +\\ ...\\ +\\ m)\\\\\n",
    "& = p * [(1\\ + 2\\ +\\ ...\\ +\\ m) - (1\\ + 2\\ +\\ ...\\ +\\ n)]\\\\\n",
    "& = p * [\\frac{m * (m + 1)}{2} - \\frac{n * (n + 1)}{2})]\n",
    "\\end{align}\n",
    "\n",
    "With that, we can write the same function in Python:"
   ]
  },
  {
   "cell_type": "code",
   "execution_count": 1,
   "metadata": {},
   "outputs": [],
   "source": [
    "def sum_divisibles(lower, upper, p):\n",
    "    if lower >= limit:\n",
    "        return 0\n",
    "\n",
    "    refactored_lower = lower // p\n",
    "\n",
    "    if upper > limit:\n",
    "        upper = limit\n",
    "\n",
    "    refactored_upper = upper // p if upper % p else (upper - 1) // p\n",
    "\n",
    "    divisible_sum = p * (refactored_upper * (refactored_upper + 1)\n",
    "                    - refactored_lower * (refactored_lower + 1)) // 2\n",
    "\n",
    "    return divisible_sum"
   ]
  },
  {
   "cell_type": "markdown",
   "metadata": {},
   "source": [
    "### Handling the upper limit\n",
    "\n",
    "Notice in the above function that there is a variable called `limit`, this is the hard upper limit of semidivisible numbers that we are looking for. The limit actually needs to be handled carefully with the limit with which we generate our prime numbers. Specifically, there are edge-cases with disconnects between these two limits.\n",
    "\n",
    "### Concurrency\n",
    "\n",
    "As always, I'd like to spread the work across multiple threads just to gain some additional speedup:"
   ]
  },
  {
   "cell_type": "code",
   "execution_count": 2,
   "metadata": {},
   "outputs": [],
   "source": [
    "def solve(limit, prime_input='primes.txt'):\n",
    "    global running_sum\n",
    "\n",
    "    def thread_worker():\n",
    "        global running_sum\n",
    "\n",
    "        while True:\n",
    "            task = task_queue.get()\n",
    "            if task is None:\n",
    "                break\n",
    "\n",
    "            p1, p2 = task\n",
    "            p1_squared = p1 ** 2\n",
    "            p2_squared = p2 ** 2\n",
    "\n",
    "            p1_divisible_sum = sum_divisibles(p1_squared, p2_squared, p1)\n",
    "            p2_divisible_sum = sum_divisibles(p1_squared, p2_squared, p2)\n",
    "            p1_p2_divisible_sum = sum_divisibles(\n",
    "                p1_squared, p2_squared, p1 * p2\n",
    "            )\n",
    "            semidivisible_sum = p1_divisible_sum + p2_divisible_sum\\\n",
    "                                - 2 * p1_p2_divisible_sum\n",
    "\n",
    "            running_sum += semidivisible_sum\n",
    "\n",
    "            task_queue.task_done()\n",
    "\n",
    "    # reading in and cleaning saved prime numbers\n",
    "    with open(prime_input, 'r') as f:\n",
    "        lines = f.readlines()\n",
    "    primes = list(map(lambda x: int(x[: -1]), lines))\n",
    "\n",
    "    # setting up threading variables\n",
    "    task_queue = Queue()\n",
    "    threads = []\n",
    "    n_threads = 4\n",
    "    for i in range(n_threads):\n",
    "        t = Thread(target=thread_worker)\n",
    "        t.start()\n",
    "        threads.append(t)\n",
    "\n",
    "    # adding prime pairs to task queue\n",
    "    for i in range(len(primes) - 1):\n",
    "        task_queue.put((primes[i], primes[i + 1]))\n",
    "\n",
    "    # blocking until all tasks are done\n",
    "    task_queue.join()\n",
    "\n",
    "    # poison-pill and stopping all threads\n",
    "    for i in range(n_threads):\n",
    "        task_queue.put(None)\n",
    "    for t in threads:\n",
    "        t.join()\n",
    "\n",
    "    print('Final result:', running_sum)"
   ]
  },
  {
   "cell_type": "markdown",
   "metadata": {},
   "source": [
    "## Conclusion\n",
    "\n",
    "This is quitea straightforward problem once you have gained the above insight regarding pairs of consecutive primes. It actually took me a while to arrive at the insight myself."
   ]
  },
  {
   "cell_type": "code",
   "execution_count": null,
   "metadata": {},
   "outputs": [],
   "source": []
  }
 ],
 "metadata": {
  "kernelspec": {
   "display_name": "Python 3",
   "language": "python",
   "name": "python3"
  },
  "language_info": {
   "codemirror_mode": {
    "name": "ipython",
    "version": 3
   },
   "file_extension": ".py",
   "mimetype": "text/x-python",
   "name": "python",
   "nbconvert_exporter": "python",
   "pygments_lexer": "ipython3",
   "version": "3.7.0"
  }
 },
 "nbformat": 4,
 "nbformat_minor": 1
}
