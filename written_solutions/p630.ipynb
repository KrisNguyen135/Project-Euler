{
  "nbformat": 4,
  "nbformat_minor": 0,
  "metadata": {
    "colab": {
      "name": "p630.ipynb",
      "provenance": [],
      "collapsed_sections": [],
      "authorship_tag": "ABX9TyOZGFlmprvwu+2Ev/IDdEUM",
      "include_colab_link": true
    },
    "kernelspec": {
      "name": "python3",
      "display_name": "Python 3"
    }
  },
  "cells": [
    {
      "cell_type": "markdown",
      "metadata": {
        "id": "view-in-github",
        "colab_type": "text"
      },
      "source": [
        "<a href=\"https://colab.research.google.com/github/KrisNguyen135/Project-Euler/blob/master/written_solutions/p630.ipynb\" target=\"_parent\"><img src=\"https://colab.research.google.com/assets/colab-badge.svg\" alt=\"Open In Colab\"/></a>"
      ]
    },
    {
      "cell_type": "markdown",
      "metadata": {
        "id": "fc_rnupxz6Vk",
        "colab_type": "text"
      },
      "source": [
        "# Project Euler 630: Crossed lines\n",
        "\n",
        "Link to the problem prompt: [https://projecteuler.net/problem=630](https://projecteuler.net/problem=630)\n",
        "\n",
        "The first $n$ points can be generated in a naive manner with $O(n)$ time complexity. This is done using the `generate_points()` function below.\n",
        "\n",
        "For each pair of points $(x_A, y_A)$ and $(x_B, y_B)$, the line that goes through them is either (1) $x = x_A$ if $x_A = x_B$ or (2) $y = \\frac{y_A - y_B}{x_A - x_B} x + \\frac{x_A y_B - x_B y_A}{x_A - x_B}$ otherwise. Iterating through all the pairs of points $(T_{2k - 1}, T_{2k})$, we only need to keep track of the unique lines, which corresponds to the unique tuples $(m = \\frac{y_A - y_B}{x_A - x_B}, c = \\frac{x_A y_B - x_B y_A}{x_A - x_B})$. This is done using the `get_m_and_c()` function below."
      ]
    },
    {
      "cell_type": "code",
      "metadata": {
        "id": "-R2W_1PsuNKH",
        "colab_type": "code",
        "colab": {}
      },
      "source": [
        "from collections import Counter\n",
        "import numpy as np\n",
        "\n",
        "from tqdm import tqdm"
      ],
      "execution_count": 0,
      "outputs": []
    },
    {
      "cell_type": "code",
      "metadata": {
        "id": "7fyOLJEytbqD",
        "colab_type": "code",
        "colab": {}
      },
      "source": [
        "MOD1 = 50515093\n",
        "MOD2 = 2000\n",
        "\n",
        "\n",
        "def generate_points(n):\n",
        "    points = []\n",
        "    temp_s = 290797\n",
        "\n",
        "    # while len(points) < n:\n",
        "    for _ in tqdm(range(n)):\n",
        "        temp_s = pow(temp_s, 2, MOD1)\n",
        "        x = (temp_s % MOD2) - 1000\n",
        "\n",
        "        temp_s = pow(temp_s, 2, MOD1)\n",
        "        y = (temp_s % MOD2) - 1000\n",
        "\n",
        "        points.append((x, y))\n",
        "\n",
        "    return points\n",
        "\n",
        "\n",
        "def get_m_and_c(points):\n",
        "    m_and_cs = set()\n",
        "\n",
        "    for id1 in tqdm(range(len(points) - 1)):\n",
        "        for id2 in range(id1 + 1, len(points)):\n",
        "            xa, ya = points[id1]\n",
        "            xb, yb = points[id2]\n",
        "\n",
        "            if xa == xb:\n",
        "                m_and_cs.add((None, xa))\n",
        "            else:\n",
        "                m = (ya - yb) / (xa - xb)\n",
        "                c = (xa * yb - xb * ya) / (xa - xb)\n",
        "\n",
        "                m_and_cs.add((m, c))\n",
        "\n",
        "    return m_and_cs"
      ],
      "execution_count": 0,
      "outputs": []
    },
    {
      "cell_type": "code",
      "metadata": {
        "id": "GcZ__t-3uUxG",
        "colab_type": "code",
        "colab": {
          "base_uri": "https://localhost:8080/",
          "height": 51
        },
        "outputId": "4ec0b4cb-df24-48a1-cdd1-962b5b43488d"
      },
      "source": [
        "points = generate_points(2500)"
      ],
      "execution_count": 39,
      "outputs": [
        {
          "output_type": "stream",
          "text": [
            "\n",
            "100%|██████████| 2500/2500 [00:00<00:00, 154236.38it/s]\n"
          ],
          "name": "stderr"
        }
      ]
    },
    {
      "cell_type": "code",
      "metadata": {
        "id": "tKCUmD1GuXEI",
        "colab_type": "code",
        "colab": {}
      },
      "source": [
        "m_and_cs = get_m_and_c(points)"
      ],
      "execution_count": 0,
      "outputs": []
    },
    {
      "cell_type": "markdown",
      "metadata": {
        "id": "op8KkTjV11ym",
        "colab_type": "text"
      },
      "source": [
        "Finally, if two unique lines share the same slope $m$, they are parallel to each other. We group the unique lines computed above so that lines in the same group are parallel to one another and record the number of items in each group. This is done using the `count_parallel_lines()` function.\n",
        "\n",
        "Consider the array of item counts among the groups $(c_1, c_2, ..., c_k)$. We need to compute 2 times the number of intersections among the lines the generated these counts. Between a group with $c_i$ parallel lines and other group with $c_j$ parallel lines, there are $c_i \\times c_j$ intersections (an intuitive way to think about this is a grid made up from the two groups of parallel lines). So the final answer is 2 times the following sum of pairwise products among the count array $(c_1, c_2, ..., c_k)$:\n",
        "\n",
        "$$2 \\sum_{i \\neq j} c_i \\times c_j$$\n",
        "\n",
        "A brute-force approach has an $O(n^2)$ time complexity, with $n$ being the number of distinct groups. This is infeasible when the number of points at the beginning is 2500. Instead, we can rewrite the above expression as:\n",
        "\n",
        "$$\\left( \\sum_i c_i \\right)^2 - \\sum_i c_i^2$$\n",
        "\n",
        "These two expressions can be computed efficiently using NumPy:"
      ]
    },
    {
      "cell_type": "code",
      "metadata": {
        "id": "C9zL1ePZv4Sn",
        "colab_type": "code",
        "colab": {}
      },
      "source": [
        "ms = [item[0] for item in m_and_cs]\n",
        "line_counter = Counter(ms)"
      ],
      "execution_count": 0,
      "outputs": []
    },
    {
      "cell_type": "code",
      "metadata": {
        "id": "_kT_UJ-Fxr8q",
        "colab_type": "code",
        "colab": {
          "base_uri": "https://localhost:8080/",
          "height": 34
        },
        "outputId": "0bb5d2b9-e357-4c55-fa11-4503265e5523"
      },
      "source": [
        "counts = np.array([item[1] for item in line_counter.items()])\n",
        "\n",
        "np.sum(counts) ** 2 - np.sum(counts ** 2)"
      ],
      "execution_count": 42,
      "outputs": [
        {
          "output_type": "execute_result",
          "data": {
            "text/plain": [
              "9669182880384"
            ]
          },
          "metadata": {
            "tags": []
          },
          "execution_count": 42
        }
      ]
    },
    {
      "cell_type": "code",
      "metadata": {
        "id": "s1O0u_RVzUbw",
        "colab_type": "code",
        "colab": {}
      },
      "source": [
        ""
      ],
      "execution_count": 0,
      "outputs": []
    }
  ]
}