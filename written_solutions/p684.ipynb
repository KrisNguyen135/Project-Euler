{
  "nbformat": 4,
  "nbformat_minor": 0,
  "metadata": {
    "colab": {
      "name": "p684.ipynb",
      "provenance": [],
      "collapsed_sections": [],
      "authorship_tag": "ABX9TyOtU1ubjoYK/znRvkLneDH1",
      "include_colab_link": true
    },
    "kernelspec": {
      "name": "python3",
      "display_name": "Python 3"
    }
  },
  "cells": [
    {
      "cell_type": "markdown",
      "metadata": {
        "id": "view-in-github",
        "colab_type": "text"
      },
      "source": [
        "<a href=\"https://colab.research.google.com/github/KrisNguyen135/Project-Euler/blob/master/written_solutions/p684.ipynb\" target=\"_parent\"><img src=\"https://colab.research.google.com/assets/colab-badge.svg\" alt=\"Open In Colab\"/></a>"
      ]
    },
    {
      "cell_type": "markdown",
      "metadata": {
        "id": "NMCAth8BihG3",
        "colab_type": "text"
      },
      "source": [
        "# Project Euler 684: Inverse digit sum\n",
        "\n",
        "Link to the original problem: [https://projecteuler.net/problem=684](https://projecteuler.net/problem=684)\n",
        "\n",
        "# Analyzing $s(n)$\n",
        "\n",
        "The smallest number whose digit sum equals $n$ is in the form of\n",
        "\n",
        "$$k99...9$$\n",
        "\n",
        "where $k = n ~ mod ~ 9$. It can be proven that if there exists another number whose digit sum is $n$, it will be greater than or equal to the number above.\n",
        "\n",
        "Unfortunately, for a large value of $n$, this formula does not allow us to compute $s(n)$ efficiently (try the function `s(n)` below if you want to see it for yourself).\n",
        "\n",
        "# Analyzing $S(n)$\n",
        "\n",
        "Let's see if we can circumvent this problem and compute $S(n)$ in a smarter way. For specific values of $n$, we have:\n",
        "\n",
        "$$S(9) = 1 + 2 + ... + 9$$\n",
        "\n",
        "$$S(18) = S(9) + 19 + 29 + ... + 99$$\n",
        "\n",
        "In general:\n",
        "\n",
        "$$\n",
        "S(9(k + 1)) = S(9k) + 199...9 + 299...9 + ... + 999...9 \\\\\n",
        "= S(9k) + 99...9 \\times 9 + 10^k(1 + 2 + ... + 9) \\\\\n",
        "$$\n",
        "\n",
        "With a bit of albegra, we can prove that:\n",
        "\n",
        "$$S(9k) = 6 \\times 10^k - 9k - 6$$\n",
        "\n",
        "This formula can be computed quite efficiently with the built-in `pow()` method. The problem remains about how to compute $S(n)$ when $n$ is not a multiple of 9.\n",
        "\n",
        "# Computing $S(n) ~ mod ~ 1,000,000,007$\n",
        "\n",
        "There's actually a way to compute $s(n) ~ mod ~ 1,000,000,007$. Denote $f(k) = 99...9$ ($k$ digits of 9). First, notice that:\n",
        "\n",
        "$$f(9) = -8 ~ mod ~ 1,000,000,007$$\n",
        "\n",
        "$$10^9 = -7 ~ mod ~ 1,000,000,007$$\n",
        "\n",
        "So:\n",
        "\n",
        "$$f(18) = (-8) (-7) + (-8) = 48 ~ mod ~ 1,000,000,007$$\n",
        "\n",
        "If we were to consider the series $x_1 = -8$ and $x_{n + 1} = -7x_n - 8$, we have $f(k) = x_k ~ mod ~ 1,000,000,007$. $x_k$ itself has the general formula of $(-7)^k - 1$. From here we can efficiently compute $s(n) ~ mod ~ 1,000,000,007$ and thus $S(n)$ even when $n$ is not divisible by 9."
      ]
    },
    {
      "cell_type": "code",
      "metadata": {
        "id": "L3ta5iud19Xb",
        "colab_type": "code",
        "colab": {}
      },
      "source": [
        "from tqdm import tqdm\n",
        "import numpy as np\n",
        "\n",
        "\n",
        "MOD = 1000000007\n",
        "\n",
        "\n",
        "def s(n):\n",
        "    n_nines = n // 9\n",
        "    n_nines %= MOD\n",
        "\n",
        "    return int(str(n % 9) + str(9) * n_nines) % MOD\n",
        "\n",
        "\n",
        "def s_v2(n):\n",
        "    n_nines = n // 9\n",
        "\n",
        "    x_id = n_nines // 9\n",
        "    x = pow(-7, x_id, MOD) - 1\n",
        "\n",
        "    n_remaining_nines = n_nines % 9\n",
        "\n",
        "    # print(x_id, x, n_remaining_nines)\n",
        "\n",
        "    if int(str(n % 9) + '9' * n_remaining_nines) == 0:\n",
        "        return x\n",
        "    \n",
        "    return (int(str(n % 9) + '9' * n_remaining_nines) * (x + 1) + x) % MOD\n",
        "\n",
        "\n",
        "def S(n):\n",
        "    k = n // 9\n",
        "\n",
        "    return (\n",
        "        (6 * pow(10, k, MOD) - 9 * k - 6) % MOD\n",
        "        + sum(s_v2(i) for i in range(9 * k + 1, n + 1))\n",
        "    ) % MOD\n",
        "\n",
        "\n",
        "def get_fib_array(length):\n",
        "    fib_array = [0, 1]\n",
        "    while len(fib_array) < length:\n",
        "        fib_array.append(fib_array[-1] + fib_array[-2])\n",
        "\n",
        "    return fib_array"
      ],
      "execution_count": 0,
      "outputs": []
    },
    {
      "cell_type": "code",
      "metadata": {
        "id": "r7xbY5nQymQG",
        "colab_type": "code",
        "colab": {}
      },
      "source": [
        "fib_array = get_fib_array(91)"
      ],
      "execution_count": 0,
      "outputs": []
    },
    {
      "cell_type": "code",
      "metadata": {
        "id": "i8hOEF-2y7MG",
        "colab_type": "code",
        "outputId": "0d2a0573-be4a-4757-c9c7-521022778a60",
        "colab": {
          "base_uri": "https://localhost:8080/",
          "height": 1000
        }
      },
      "source": [
        "running_sum = 0\n",
        "for i in range(2, 91):\n",
        "    # print(i, fib_array[i])\n",
        "    running_sum = (running_sum + S(fib_array[i])) % MOD\n",
        "\n",
        "    print(i, running_sum)\n",
        "\n",
        "running_sum"
      ],
      "execution_count": 0,
      "outputs": [
        {
          "output_type": "stream",
          "text": [
            "2 1\n",
            "3 4\n",
            "4 10\n",
            "5 25\n",
            "6 61\n",
            "7 242\n",
            "8 1715\n",
            "9 42675\n",
            "10 8042614\n",
            "11 8042169\n",
            "12 588042026\n",
            "13 88041612\n",
            "14 93041145\n",
            "15 440412895\n",
            "16 65156256\n",
            "17 519935979\n",
            "18 691781659\n",
            "19 769356477\n",
            "20 107042993\n",
            "21 819891931\n",
            "22 518149920\n",
            "23 168949234\n",
            "24 476915511\n",
            "25 692437619\n",
            "26 503409380\n",
            "27 979450463\n",
            "28 108604874\n",
            "29 282351468\n",
            "30 159166760\n",
            "31 979170050\n",
            "32 725966949\n",
            "33 319026893\n",
            "34 281651547\n",
            "35 645435163\n",
            "36 174686725\n",
            "37 433049473\n",
            "38 171914997\n",
            "39 642184997\n",
            "40 570500927\n",
            "41 525436535\n",
            "42 146228532\n",
            "43 575042599\n",
            "44 562446383\n",
            "45 301862246\n",
            "46 223791686\n",
            "47 754670665\n",
            "48 711161488\n",
            "49 983825219\n",
            "50 278345933\n",
            "51 897297439\n",
            "52 617067610\n",
            "53 138598635\n",
            "54 661180911\n",
            "55 229937882\n",
            "56 352935945\n",
            "57 5117575\n",
            "58 680615787\n",
            "59 698265166\n",
            "60 689856750\n",
            "61 164026900\n",
            "62 449073053\n",
            "63 614220168\n",
            "64 599859409\n",
            "65 810344941\n",
            "66 576258718\n",
            "67 711458574\n",
            "68 987981001\n",
            "69 71865366\n",
            "70 934607974\n",
            "71 175904900\n",
            "72 948057661\n",
            "73 43689455\n",
            "74 247514029\n",
            "75 148180550\n",
            "76 630535895\n",
            "77 39846527\n",
            "78 509312307\n",
            "79 856286538\n",
            "80 900957720\n",
            "81 144100294\n",
            "82 563464908\n",
            "83 109401678\n",
            "84 699643797\n",
            "85 853598834\n",
            "86 134977699\n",
            "87 216595319\n",
            "88 421610646\n",
            "89 680156796\n",
            "90 922058210\n"
          ],
          "name": "stdout"
        },
        {
          "output_type": "execute_result",
          "data": {
            "text/plain": [
              "922058210"
            ]
          },
          "metadata": {
            "tags": []
          },
          "execution_count": 7
        }
      ]
    },
    {
      "cell_type": "code",
      "metadata": {
        "id": "yEGyHfTT-InN",
        "colab_type": "code",
        "colab": {}
      },
      "source": [
        ""
      ],
      "execution_count": 0,
      "outputs": []
    }
  ]
}