{
  "nbformat": 4,
  "nbformat_minor": 0,
  "metadata": {
    "colab": {
      "name": "p688.ipynb",
      "provenance": [],
      "collapsed_sections": [],
      "authorship_tag": "ABX9TyOMqNLdBAROS4WOpwcLlghc",
      "include_colab_link": true
    },
    "kernelspec": {
      "name": "python3",
      "display_name": "Python 3"
    }
  },
  "cells": [
    {
      "cell_type": "markdown",
      "metadata": {
        "id": "view-in-github",
        "colab_type": "text"
      },
      "source": [
        "<a href=\"https://colab.research.google.com/github/KrisNguyen135/Project-Euler/blob/master/written_solutions/p688.ipynb\" target=\"_parent\"><img src=\"https://colab.research.google.com/assets/colab-badge.svg\" alt=\"Open In Colab\"/></a>"
      ]
    },
    {
      "cell_type": "markdown",
      "metadata": {
        "id": "O-HICTw16qcH",
        "colab_type": "text"
      },
      "source": [
        "# Project Euler Problem 688: Piles of Plates\n",
        "\n",
        "Link to the problem prompt: [https://projecteuler.net/problem=688](https://projecteuler.net/problem=688)\n",
        "\n",
        "Calculating $f(n, k)$, the maximum possible number of plates in the smallest pile, for any given $n$ and $k$ is simple:\n",
        "\n",
        "$$f(n, k) = \\lfloor \\frac{2n - k^2 + k}{2k} \\rfloor$$\n",
        "\n",
        "(It's easy to verify this by considering the situation where the numbers of plates are an arithmetic sequence with a difference of 1, which is where $f$ is maximized for the smallest value of $n$. If $n$ is anything above this threshold but not larger than it by at least $k$, $f$ will have the same value.)\n",
        "\n",
        "From here we can calculate $f$, $F$, and $S$ in a brute-force way as follows."
      ]
    },
    {
      "cell_type": "code",
      "metadata": {
        "id": "Qnt6tQI1qYi_",
        "colab_type": "code",
        "colab": {}
      },
      "source": [
        "from math import floor, sqrt\n",
        "from tqdm import tqdm\n",
        "\n",
        "\n",
        "MOD = 1000000007\n",
        "\n",
        "\n",
        "def f(n, k):\n",
        "    return floor((2 * n / k - k + 1) / 2)\n",
        "\n",
        "\n",
        "def F(n):\n",
        "    running_sum = 0\n",
        "    k = 1\n",
        "    temp_f = f(n, k)\n",
        "    \n",
        "    while temp_f > 0:\n",
        "        running_sum += temp_f\n",
        "        k += 1\n",
        "        temp_f = f(n, k)\n",
        "    \n",
        "    return running_sum\n",
        "\n",
        "\n",
        "def S(N):\n",
        "    running_sum = 0\n",
        "    # for n in tqdm(range(1, N + 1)):\n",
        "    for n in range(1, N + 1):\n",
        "        running_sum += F(n)\n",
        "    \n",
        "    return running_sum"
      ],
      "execution_count": 0,
      "outputs": []
    },
    {
      "cell_type": "markdown",
      "metadata": {
        "id": "86iSdNfV8jUv",
        "colab_type": "text"
      },
      "source": [
        "The current function `S` is very inefficient. We now notice that $S$ is a sum calculated via a nested loop iterating through values of $n$ (outer loop) and $k$ (inner loop). However, we can calculate $S$ in another way, by summing $f$ from $n = 1$ to $n = 10^{16}$ for a fixed value of $k$, which can be computed efficiently:\n",
        "\n",
        "$$\\sum_{n = 1}^{10^{16}} \\lfloor \\frac{2n - k^2 + k}{2k} \\rfloor = k \\sum_{m = 1}^{M} m + (M + 1) \\left( 10^{16} - \\frac{k (k + 2M + 1)}{2} + 1 \\right), \\forall k$$\n",
        "\n",
        "where $M = \\lfloor \\frac{2 \\cdot 10^{16} - k^2 - k}{2k} \\rfloor$. This can be proven from the fact that, if $m \\in \\mathbb{N}$ such that:\n",
        "\n",
        "$$\\frac{k (k + 2m - 1)}{2} \\leq n < \\frac{k (k + 2m + 1)}{2},$$\n",
        "\n",
        "then $f(n, k) = m$. From here we can have a much more efficient implementation of $S$:"
      ]
    },
    {
      "cell_type": "code",
      "metadata": {
        "id": "ZQ4myDocrQN-",
        "colab_type": "code",
        "colab": {
          "base_uri": "https://localhost:8080/",
          "height": 874
        },
        "outputId": "0665faa4-b11e-4ebb-d25d-705cd4f4877f"
      },
      "source": [
        "def S_v2(N):\n",
        "    running_sum = 0\n",
        "    \n",
        "    for k in tqdm(range(1, int((sqrt(8 * N + 1) - 1) / 2) + 1)):\n",
        "        max_m = floor((2 * N / k - k - 1) / 2)\n",
        "        running_sum += k * max_m * (max_m + 1) // 2\n",
        "        running_sum += (max_m + 1) * (N - k * (k + 2 * max_m + 1) // 2 + 1)\n",
        "        running_sum %= MOD\n",
        "    \n",
        "    return running_sum\n",
        "\n",
        "\n",
        "for n in range(50, 101):\n",
        "    print(n, S(n), S_v2(n))"
      ],
      "execution_count": 4,
      "outputs": [
        {
          "output_type": "stream",
          "text": [
            "50 2782 2782\n",
            "51 2906 2906\n",
            "52 3032 3032\n",
            "53 3160 3160\n",
            "54 3292 3292\n",
            "55 3428 3428\n",
            "56 3566 3566\n",
            "57 3708 3708\n",
            "58 3852 3852\n",
            "59 3998 3998\n",
            "60 4148 4148\n",
            "61 4300 4300\n",
            "62 4454 4454\n",
            "63 4614 4614\n",
            "64 4775 4775\n",
            "65 4940 4940\n",
            "66 5109 5109\n",
            "67 5280 5280\n",
            "68 5453 5453\n",
            "69 5630 5630\n",
            "70 5811 5811\n",
            "71 5994 5994\n",
            "72 6180 6180\n",
            "73 6368 6368\n",
            "74 6558 6558\n",
            "75 6754 6754\n",
            "76 6952 6952\n",
            "77 7154 7154\n",
            "78 7360 7360\n",
            "79 7568 7568\n",
            "80 7778 7778\n",
            "81 7993 7993\n",
            "82 8210 8210\n",
            "83 8429 8429\n",
            "84 8652 8652\n",
            "85 8879 8879\n",
            "86 9108 9108\n",
            "87 9341 9341\n",
            "88 9576 9576\n",
            "89 9813 9813\n",
            "90 10056 10056\n",
            "91 10303 10303\n",
            "92 10552 10552\n",
            "93 10805 10805\n",
            "94 11060 11060\n",
            "95 11319 11319\n",
            "96 11580 11580\n",
            "97 11843 11843\n",
            "98 12109 12109\n",
            "99 12381 12381\n",
            "100 12656 12656\n"
          ],
          "name": "stdout"
        }
      ]
    },
    {
      "cell_type": "code",
      "metadata": {
        "id": "hThkjX8TrZJL",
        "colab_type": "code",
        "colab": {
          "base_uri": "https://localhost:8080/",
          "height": 34
        },
        "outputId": "e93147e7-39eb-49d1-db5f-619e0742499e"
      },
      "source": [
        "F(10 ** 16)"
      ],
      "execution_count": 14,
      "outputs": [
        {
          "output_type": "execute_result",
          "data": {
            "text/plain": [
              "188444699991349875"
            ]
          },
          "metadata": {
            "tags": []
          },
          "execution_count": 14
        }
      ]
    },
    {
      "cell_type": "code",
      "metadata": {
        "id": "veaNj_ACtJmf",
        "colab_type": "code",
        "colab": {
          "base_uri": "https://localhost:8080/",
          "height": 50
        },
        "outputId": "94244eb1-3dbd-4c7d-ce92-b298bc6daddf"
      },
      "source": [
        "S_v2(10 ** 16)"
      ],
      "execution_count": 2,
      "outputs": [
        {
          "output_type": "stream",
          "text": [
            "100%|██████████| 141421355/141421355 [02:44<00:00, 857357.26it/s]\n"
          ],
          "name": "stderr"
        },
        {
          "output_type": "execute_result",
          "data": {
            "text/plain": [
              "110941813"
            ]
          },
          "metadata": {
            "tags": []
          },
          "execution_count": 2
        }
      ]
    },
    {
      "cell_type": "code",
      "metadata": {
        "id": "qp1PZb3g0NOI",
        "colab_type": "code",
        "colab": {}
      },
      "source": [
        ""
      ],
      "execution_count": 0,
      "outputs": []
    }
  ]
}