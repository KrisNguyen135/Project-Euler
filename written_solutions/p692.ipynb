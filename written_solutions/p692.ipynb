{
  "nbformat": 4,
  "nbformat_minor": 0,
  "metadata": {
    "colab": {
      "name": "p692.ipynb",
      "provenance": [],
      "collapsed_sections": [],
      "authorship_tag": "ABX9TyMh4zaXJin5k0mMHU3jZSsn",
      "include_colab_link": true
    },
    "kernelspec": {
      "name": "python3",
      "display_name": "Python 3"
    }
  },
  "cells": [
    {
      "cell_type": "markdown",
      "metadata": {
        "id": "view-in-github",
        "colab_type": "text"
      },
      "source": [
        "<a href=\"https://colab.research.google.com/github/KrisNguyen135/Project-Euler/blob/master/written_solutions/p692.ipynb\" target=\"_parent\"><img src=\"https://colab.research.google.com/assets/colab-badge.svg\" alt=\"Open In Colab\"/></a>"
      ]
    },
    {
      "cell_type": "markdown",
      "metadata": {
        "id": "oYs84kjXWIS3",
        "colab_type": "text"
      },
      "source": [
        "# Project Euler 692: Siegbert and Jo\n",
        "\n",
        "Link to the original problem: [https://projecteuler.net/problem=692](https://projecteuler.net/problem=692)\n",
        "\n",
        "The first few values of $H(n)$ can be calculated using the following algorithm:\n",
        "\n",
        "- for $i = n, ..., \\lceil 2n / 3 \\rceil$ do: if $H(i) > 2(n - i)$ then $H(n) = i$\n",
        "- if there is no $i$ that satisfies the condition then $H(n) = n$"
      ]
    },
    {
      "cell_type": "code",
      "metadata": {
        "id": "uuiulsXgojqe",
        "colab_type": "code",
        "colab": {}
      },
      "source": [
        "from math import ceil\n",
        "from tqdm import tqdm"
      ],
      "execution_count": 0,
      "outputs": []
    },
    {
      "cell_type": "code",
      "metadata": {
        "id": "-aAXL6E_n87l",
        "colab_type": "code",
        "colab": {}
      },
      "source": [
        "Hs = [1]"
      ],
      "execution_count": 0,
      "outputs": []
    },
    {
      "cell_type": "code",
      "metadata": {
        "id": "jB6vd54RoJhb",
        "colab_type": "code",
        "colab": {}
      },
      "source": [
        "def get_next_H(n):\n",
        "    global Hs\n",
        "\n",
        "    # temp = len(Hs) + 1\n",
        "    # while temp <= n:\n",
        "    for temp in tqdm(range(len(Hs) + 1, n + 1)):\n",
        "        found = False\n",
        "\n",
        "        for i in reversed(range(ceil(2 * temp / 3), temp)):\n",
        "            action = temp - i\n",
        "            \n",
        "            if Hs[i - 1] > 2 * action:\n",
        "                Hs.append(action)\n",
        "\n",
        "                found = True\n",
        "                break\n",
        "\n",
        "        if not found:\n",
        "            Hs.append(temp)\n",
        "\n",
        "        # temp += 1"
      ],
      "execution_count": 0,
      "outputs": []
    },
    {
      "cell_type": "code",
      "metadata": {
        "id": "RK8SlTBCpJX9",
        "colab_type": "code",
        "outputId": "62791e08-92c6-484b-b1d2-ef166cbe2187",
        "colab": {
          "base_uri": "https://localhost:8080/",
          "height": 34
        }
      },
      "source": [
        "get_next_H(100)"
      ],
      "execution_count": 17,
      "outputs": [
        {
          "output_type": "stream",
          "text": [
            "0it [00:00, ?it/s]\n"
          ],
          "name": "stderr"
        }
      ]
    },
    {
      "cell_type": "markdown",
      "metadata": {
        "id": "TEv9ZN9qXLLy",
        "colab_type": "text"
      },
      "source": [
        "The below sequence is the first 100 values of $H(n)$.\n",
        "\n",
        "We first define $\\{ f \\}_{i = 1}^{\\infty}$ as the Fibbonacci sequence where $f_1 = 1$, $f_2 = 2$, and $f_{n + 2} = f_{n + 1} + f_n, \\forall n \\geq 1$.\n",
        "\n",
        "There's a pattern to the value of $H(n)$:\n",
        "- If $n \\in \\{ f \\}$, then $H(n) = n$\n",
        "- Else, define $i_n$ as the integer satisfying $f_{i_n} < n < f_{i_n + 1}$, then $H(n) = H(n - f_{i_n})$.\n",
        "\n",
        "Roughly speaking, $H(f_i) = f_i$ for all $f_i \\in \\{ f \\}$, while the values between $f_i$ and $f_{i + 1}$ are filled by the first values of $H(n)$ in order. This can be proven by induction."
      ]
    },
    {
      "cell_type": "code",
      "metadata": {
        "id": "MPPg68LgMRgU",
        "colab_type": "code",
        "outputId": "114ad558-43f5-425f-ee53-ac6b7bfbc7a8",
        "colab": {
          "base_uri": "https://localhost:8080/",
          "height": 54
        }
      },
      "source": [
        "print(*Hs)"
      ],
      "execution_count": 0,
      "outputs": [
        {
          "output_type": "stream",
          "text": [
            "1 2 3 1 5 1 2 8 1 2 3 1 13 1 2 3 1 5 1 2 21 1 2 3 1 5 1 2 8 1 2 3 1 34 1 2 3 1 5 1 2 8 1 2 3 1 13 1 2 3 1 5 1 2 55 1 2 3 1 5 1 2 8 1 2 3 1 13 1 2 3 1 5 1 2 21 1 2 3 1 5 1 2 8 1 2 3 1 89 1 2 3 1 5 1 2 8 1 2 3\n"
          ],
          "name": "stdout"
        }
      ]
    },
    {
      "cell_type": "markdown",
      "metadata": {
        "id": "SPxYqmG9YgAT",
        "colab_type": "text"
      },
      "source": [
        "Calculating $G(n)$ can then be done using the following recursion:\n",
        "\n",
        "$$G(f_{n + 2}) = f_{n + 1} + G(f_{n + 1}) + G(f_n), \\forall n \\geq 1$$\n",
        "\n",
        "23416728348467685 is actually $f_{79}$, so we need to calculate $G(f_{79})$."
      ]
    },
    {
      "cell_type": "code",
      "metadata": {
        "id": "1i1w6yexPeAP",
        "colab_type": "code",
        "outputId": "4ff91651-7f83-4325-e77a-ddae9309224b",
        "colab": {
          "base_uri": "https://localhost:8080/",
          "height": 54
        }
      },
      "source": [
        "fib = [1, 2]\n",
        "while len(fib) < 79:\n",
        "    fib.append(fib[-1] + fib[-2])\n",
        "\n",
        "print(*fib)"
      ],
      "execution_count": 0,
      "outputs": [
        {
          "output_type": "stream",
          "text": [
            "1 2 3 5 8 13 21 34 55 89 144 233 377 610 987 1597 2584 4181 6765 10946 17711 28657 46368 75025 121393 196418 317811 514229 832040 1346269 2178309 3524578 5702887 9227465 14930352 24157817 39088169 63245986 102334155 165580141 267914296 433494437 701408733 1134903170 1836311903 2971215073 4807526976 7778742049 12586269025 20365011074 32951280099 53316291173 86267571272 139583862445 225851433717 365435296162 591286729879 956722026041 1548008755920 2504730781961 4052739537881 6557470319842 10610209857723 17167680177565 27777890035288 44945570212853 72723460248141 117669030460994 190392490709135 308061521170129 498454011879264 806515533049393 1304969544928657 2111485077978050 3416454622906707 5527939700884757 8944394323791464 14472334024676221 23416728348467685\n"
          ],
          "name": "stdout"
        }
      ]
    },
    {
      "cell_type": "code",
      "metadata": {
        "id": "TpE9IoMTP73g",
        "colab_type": "code",
        "outputId": "b1f47e65-c5aa-4dec-d2a7-605b6277c8c7",
        "colab": {
          "base_uri": "https://localhost:8080/",
          "height": 54
        }
      },
      "source": [
        "Gs = [1, 3, 6]\n",
        "\n",
        "while len(Gs) < 79:\n",
        "    Gs.append(fib[len(Gs) - 1] + Gs[-1] + Gs[-2])\n",
        "\n",
        "print(*Gs)"
      ],
      "execution_count": 0,
      "outputs": [
        {
          "output_type": "stream",
          "text": [
            "1 3 6 12 23 43 79 143 256 454 799 1397 2429 4203 7242 12432 21271 36287 61739 104791 177476 299978 506111 852457 1433593 2407443 4037454 6762708 11314391 18909139 31569799 52657247 87751624 146111758 243090847 404132957 671381621 1114602747 1849230354 3066167256 5080977751 8415059303 13929531491 23045999527 38110434188 62992745618 104074394879 171874667473 283727804401 468188740899 772281556374 1273421577372 2099019424919 3458708573563 5697311860927 9381871868207 15444619025296 25417777623382 41819118674719 68784905054021 113108754510701 185946399102603 305612623933146 502169232893472 824949537004183 1354896659932943 2224791767149979 3652411887331063 5994872684942036 9837677062982234 16140611269094399 26476742343955897 43423869146099689 71205581034984243 116740935259061982 191362970916952932 313631845876899671 513939211117644067 842043391019219959\n"
          ],
          "name": "stdout"
        }
      ]
    },
    {
      "cell_type": "code",
      "metadata": {
        "id": "8JS-sXIFSHZd",
        "colab_type": "code",
        "outputId": "893cbb13-483b-4d50-ffc8-03c846520e7b",
        "colab": {
          "base_uri": "https://localhost:8080/",
          "height": 34
        }
      },
      "source": [
        "Gs[-1]"
      ],
      "execution_count": 0,
      "outputs": [
        {
          "output_type": "execute_result",
          "data": {
            "text/plain": [
              "842043391019219959"
            ]
          },
          "metadata": {
            "tags": []
          },
          "execution_count": 15
        }
      ]
    },
    {
      "cell_type": "code",
      "metadata": {
        "id": "GfOvj0d8TX8L",
        "colab_type": "code",
        "colab": {}
      },
      "source": [
        ""
      ],
      "execution_count": 0,
      "outputs": []
    }
  ]
}