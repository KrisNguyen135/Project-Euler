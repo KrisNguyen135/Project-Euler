{
  "nbformat": 4,
  "nbformat_minor": 0,
  "metadata": {
    "colab": {
      "name": "p700.ipynb",
      "provenance": [],
      "collapsed_sections": [],
      "authorship_tag": "ABX9TyOq1jj93Bf2Ub16E/zszmYT",
      "include_colab_link": true
    },
    "kernelspec": {
      "name": "python3",
      "display_name": "Python 3"
    }
  },
  "cells": [
    {
      "cell_type": "markdown",
      "metadata": {
        "id": "view-in-github",
        "colab_type": "text"
      },
      "source": [
        "<a href=\"https://colab.research.google.com/github/KrisNguyen135/Project-Euler/blob/master/written_solutions/p700.ipynb\" target=\"_parent\"><img src=\"https://colab.research.google.com/assets/colab-badge.svg\" alt=\"Open In Colab\"/></a>"
      ]
    },
    {
      "cell_type": "markdown",
      "metadata": {
        "id": "9_Y8Hzcevt1s",
        "colab_type": "text"
      },
      "source": [
        "# Problem 700: Eulercoin\n",
        "\n",
        "Link to the problem prompt: [https://projecteuler.net/problem=700](https://projecteuler.net/problem=700).\n",
        "\n",
        "We first check that $p = 4503599627370517$ is a prime number. An important part of the problem is the positive integer $t$ such that $mt \\equiv 1 \\mod p$, which can be computed using the [extended Euclidean algorithm](https://en.wikipedia.org/wiki/Extended_Euclidean_algorithm) as follows."
      ]
    },
    {
      "cell_type": "code",
      "metadata": {
        "id": "3qpC7H8P80w9",
        "colab_type": "code",
        "colab": {}
      },
      "source": [
        "import numpy as np\n",
        "from tqdm import tqdm"
      ],
      "execution_count": 47,
      "outputs": []
    },
    {
      "cell_type": "code",
      "metadata": {
        "id": "pnrzReP784yT",
        "colab_type": "code",
        "colab": {
          "base_uri": "https://localhost:8080/",
          "height": 34
        },
        "outputId": "72aa1399-dcc9-4f0b-9ba4-f638c852f5a9"
      },
      "source": [
        "p = 4503599627370517\n",
        "m = 1504170715041707\n",
        "\n",
        "\n",
        "t = 0\n",
        "next_t = 1\n",
        "r = p\n",
        "next_r = m\n",
        "\n",
        "# extended euclidean algorithm\n",
        "while next_r != 0:\n",
        "    quotient = r // next_r\n",
        "    t, next_t = next_t, t - quotient * next_t\n",
        "    r, next_r = next_r, r - quotient * next_r\n",
        "\n",
        "if r > 1:\n",
        "    print('m is not invertible')\n",
        "if t < 0:\n",
        "    t += p\n",
        "\n",
        "t"
      ],
      "execution_count": 2,
      "outputs": [
        {
          "output_type": "execute_result",
          "data": {
            "text/plain": [
              "3451657199285664"
            ]
          },
          "metadata": {
            "tags": []
          },
          "execution_count": 2
        }
      ]
    },
    {
      "cell_type": "markdown",
      "metadata": {
        "id": "SRkXqbhtw4wI",
        "colab_type": "text"
      },
      "source": [
        "We now run the brute-force algorithm for awhile to obtain a sufficient small value of $s = 1504170715041707n \\mod p$ (while keeping track of the running sum of Eulercoins):"
      ]
    },
    {
      "cell_type": "code",
      "metadata": {
        "id": "YxJrs5gizXdw",
        "colab_type": "code",
        "colab": {
          "base_uri": "https://localhost:8080/",
          "height": 453
        },
        "outputId": "6cfe40cc-f516-473a-9021-d2aa1b5729bd"
      },
      "source": [
        "best_i = 1\n",
        "best_s = best_i * m % p\n",
        "running_sum = best_s\n",
        "\n",
        "i = 2\n",
        "while True:  # 15806432\n",
        "    s = i * m % p\n",
        "    if s < best_s:\n",
        "        print(f'{s}\\t{i}')\n",
        "        best_i = i\n",
        "        best_s = s\n",
        "        running_sum += best_s\n",
        "\n",
        "    i += 1"
      ],
      "execution_count": 15,
      "outputs": [
        {
          "output_type": "stream",
          "text": [
            "8912517754604\t3\n",
            "2044785486369\t506\n",
            "1311409677241\t2527\n",
            "578033868113\t4548\n",
            "422691927098\t11117\n",
            "267349986083\t17686\n",
            "112008045068\t24255\n",
            "68674149121\t55079\n",
            "25340253174\t85903\n",
            "7346610401\t202630\n",
            "4046188430\t724617\n",
            "745766459\t1246604\n",
            "428410324\t6755007\n",
            "111054189\t12263410\n",
            "15806432\t42298633\n"
          ],
          "name": "stdout"
        },
        {
          "output_type": "error",
          "ename": "KeyboardInterrupt",
          "evalue": "ignored",
          "traceback": [
            "\u001b[0;31m---------------------------------------------------------------------------\u001b[0m",
            "\u001b[0;31mKeyboardInterrupt\u001b[0m                         Traceback (most recent call last)",
            "\u001b[0;32m<ipython-input-15-23d3ce41136d>\u001b[0m in \u001b[0;36m<module>\u001b[0;34m()\u001b[0m\n\u001b[1;32m     12\u001b[0m         \u001b[0mrunning_sum\u001b[0m \u001b[0;34m+=\u001b[0m \u001b[0mbest_s\u001b[0m\u001b[0;34m\u001b[0m\u001b[0;34m\u001b[0m\u001b[0m\n\u001b[1;32m     13\u001b[0m \u001b[0;34m\u001b[0m\u001b[0m\n\u001b[0;32m---> 14\u001b[0;31m     \u001b[0mi\u001b[0m \u001b[0;34m+=\u001b[0m \u001b[0;36m1\u001b[0m\u001b[0;34m\u001b[0m\u001b[0;34m\u001b[0m\u001b[0m\n\u001b[0m",
            "\u001b[0;31mKeyboardInterrupt\u001b[0m: "
          ]
        }
      ]
    },
    {
      "cell_type": "code",
      "metadata": {
        "id": "I0VANibosmOO",
        "colab_type": "code",
        "colab": {
          "base_uri": "https://localhost:8080/",
          "height": 34
        },
        "outputId": "d2c37884-fbc9-4538-e470-1633ee31b3ce"
      },
      "source": [
        "best_i, best_s, running_sum"
      ],
      "execution_count": 38,
      "outputs": [
        {
          "output_type": "execute_result",
          "data": {
            "text/plain": [
              "(42298633, 15806432, 1517926220024813)"
            ]
          },
          "metadata": {
            "tags": []
          },
          "execution_count": 38
        }
      ]
    },
    {
      "cell_type": "markdown",
      "metadata": {
        "id": "nxlUzIYCxQHu",
        "colab_type": "text"
      },
      "source": [
        "The current smallest $s$ is $15806432$, which is sufficiently small. Now, for each value of $s = 1, 2, \\cdots, 15806431$, we will find $n$ such that $1504170715041707n \\equiv s \\mod p$, by computing $st \\mod p$.\n",
        "\n",
        "(The claim that $st \\mod p$ is the correct value of $n$ can be proven from the fact that $t$ is the output of the extended Euclidean algorithm, $p$ is a prime number larger than $1504170715041707$.)\n",
        "\n",
        "We then iterate through these values of $s$ in the order of $n$ and add them to the running sum if $n$ corresponds to the smallest $s$ for all numbers up to $n$."
      ]
    },
    {
      "cell_type": "code",
      "metadata": {
        "id": "QaDUZQZbsopy",
        "colab_type": "code",
        "colab": {}
      },
      "source": [
        "ss = [s for s in range(1, best_s + 1)]\n",
        "is_ = [s * t % p for s in ss]"
      ],
      "execution_count": 41,
      "outputs": []
    },
    {
      "cell_type": "code",
      "metadata": {
        "id": "SjsC-FKTtAOM",
        "colab_type": "code",
        "colab": {}
      },
      "source": [
        "new_running_sum = running_sum\n",
        "new_best_i = best_i\n",
        "new_best_s = best_s\n",
        "\n",
        "for index in tqdm(sorted_is[1:]):\n",
        "    if ss[index] < new_best_s:\n",
        "        print(f'{ss[index]}\\t{index + 1}')\n",
        "        new_best_s = ss[index]\n",
        "        new_running_sum += new_best_s"
      ],
      "execution_count": null,
      "outputs": []
    },
    {
      "cell_type": "code",
      "metadata": {
        "id": "Q781ksqHug9s",
        "colab_type": "code",
        "colab": {
          "base_uri": "https://localhost:8080/",
          "height": 34
        },
        "outputId": "8afcc977-4891-480d-897c-2627a40585f8"
      },
      "source": [
        "new_running_sum"
      ],
      "execution_count": 50,
      "outputs": [
        {
          "output_type": "execute_result",
          "data": {
            "text/plain": [
              "1517926517777556"
            ]
          },
          "metadata": {
            "tags": []
          },
          "execution_count": 50
        }
      ]
    }
  ]
}