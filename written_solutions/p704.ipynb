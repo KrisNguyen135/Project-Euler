{
  "nbformat": 4,
  "nbformat_minor": 0,
  "metadata": {
    "colab": {
      "name": "p704.ipynb",
      "provenance": [],
      "collapsed_sections": [],
      "authorship_tag": "ABX9TyOd145VByGiLn9/zS0cJCZF",
      "include_colab_link": true
    },
    "kernelspec": {
      "name": "python3",
      "display_name": "Python 3"
    }
  },
  "cells": [
    {
      "cell_type": "markdown",
      "metadata": {
        "id": "view-in-github",
        "colab_type": "text"
      },
      "source": [
        "<a href=\"https://colab.research.google.com/github/KrisNguyen135/Project-Euler/blob/master/written_solutions/p704.ipynb\" target=\"_parent\"><img src=\"https://colab.research.google.com/assets/colab-badge.svg\" alt=\"Open In Colab\"/></a>"
      ]
    },
    {
      "cell_type": "markdown",
      "metadata": {
        "id": "_iw0HVxbolFa",
        "colab_type": "text"
      },
      "source": [
        "# Project Euler 704: Factors of Two in Binomial Coefficients\n",
        "\n",
        "Link to the problem prompt: [https://projecteuler.net/problem=704](https://projecteuler.net/problem=704)\n",
        "\n",
        "Due to [Kummer's Theorem](http://www.aquatutoring.org/KummerTheoremLucasTheorem.pdf), $g(n, m)$ can be computed as the number of carries when $(n - m)_2$ is added to $m_2$, where $x_2$ is the binary representation of a positive integer $x$. This is exactly equal the sum of digits of $(n - m)_2$ plus the sum of digits of $m_2$ minus the sum of digits of $n_2$.\n",
        "\n",
        "From here, it can be proven using induction that if $F(n) = \\max \\{ g(n, m): 0 \\leq m \\leq n \\}$, then:\n",
        "\n",
        "$$F(n) = k \\enspace \\text{if} \\enspace 2 | n \\enspace \\text{else} \\enspace F(n) = F \\left( \\lfloor \\frac{n - 1}{2} \\rfloor \\right)$$\n",
        "\n",
        "From here $S$ can be computed in a brute-force way."
      ]
    },
    {
      "cell_type": "code",
      "metadata": {
        "id": "TW48Ns2yZwHr",
        "colab_type": "code",
        "colab": {}
      },
      "source": [
        "from math import log2\n",
        "from tqdm import tqdm"
      ],
      "execution_count": 0,
      "outputs": []
    },
    {
      "cell_type": "code",
      "metadata": {
        "id": "_BYKZ_nGSRd4",
        "colab_type": "code",
        "colab": {}
      },
      "source": [
        "def count_n_carries(a, b):\n",
        "    def get_digit_sum(str_x):\n",
        "        return sum(int(d) for d in str_x)\n",
        "\n",
        "    bin_a = bin(a)[2:]\n",
        "    bin_b = bin(b)[2:]\n",
        "\n",
        "    bin_sum = bin(a + b)[2:]\n",
        "\n",
        "    return get_digit_sum(bin_a) + get_digit_sum(bin_b) - get_digit_sum(bin_sum)\n",
        "\n",
        "\n",
        "def g(n, m):\n",
        "    return count_n_carries(n - m, m)\n",
        "\n",
        "\n",
        "def F(n):\n",
        "    return max(g(n, m) for m in range(n + 1))\n",
        "\n",
        "\n",
        "def F_v2(n, k=None):\n",
        "    if k is None:\n",
        "        k = int(log2(n))\n",
        "    bin_n = bin(n)[2:]\n",
        "\n",
        "    if bin_n[-1] == '0':\n",
        "        return k\n",
        "    \n",
        "    if '0' not in bin_n:\n",
        "        return 0\n",
        "    \n",
        "    return F_v2((n - 1) // 2)\n",
        "\n",
        "\n",
        "def S(n):\n",
        "    return sum(F_v2(i) for i in range(1, n + 1))"
      ],
      "execution_count": 0,
      "outputs": []
    },
    {
      "cell_type": "markdown",
      "metadata": {
        "id": "gkXCORrfqTXN",
        "colab_type": "text"
      },
      "source": [
        "To compute $S$ efficiently, we first find the analytical expression for a special case of $S$. Specifically, define $H(k) = S(2^k - 1)$, we can derive the recursion $H(k + 1) = H(k) + k \\cdot 2^k - 2^k + 1$, which, after some algebraic manipulations, yields $H(k) = (k - 3) \\cdot 2^k + k + 3$. So,\n",
        "\n",
        "$$S(N) = H(k) + \\sum_{n = 2^k}^N F(n)$$\n",
        "\n",
        "where $k = \\lfloor \\log_2(N) \\rfloor$. Since $H$ can be computed efficiently, we only need consider the summation term. Recall that $F(n) = k$ if $n$ is even, so the summation can be computed using dynamic programming, implemented by function `S_v3`."
      ]
    },
    {
      "cell_type": "code",
      "metadata": {
        "id": "ixDv_UbCqStd",
        "colab_type": "code",
        "colab": {}
      },
      "source": [
        "def H(k):\n",
        "    return (k - 3) * 2 ** k + k + 3\n",
        "\n",
        "\n",
        "def S_v2(n):\n",
        "    k = int(log2(n))\n",
        "\n",
        "    return H(k) + sum(F_v2(i, k) for i in range(2 ** k, n + 1))\n",
        "\n",
        "\n",
        "def S_v3(n):\n",
        "    def sub_S(sub_n, sub_k=None):\n",
        "        if sub_k is None:\n",
        "            sub_k = int(log2(sub_n))\n",
        "        if sub_n == 2 ** sub_k:\n",
        "            return sub_k\n",
        "\n",
        "        return sub_k * ((sub_n - 2 ** sub_k) // 2 + 1) + sub_S((sub_n - 1) // 2)\n",
        "\n",
        "    k = int(log2(n))\n",
        "    \n",
        "    return H(k) + sub_S(n, k)"
      ],
      "execution_count": 0,
      "outputs": []
    },
    {
      "cell_type": "code",
      "metadata": {
        "id": "qNjOO5JTnCj3",
        "colab_type": "code",
        "colab": {
          "base_uri": "https://localhost:8080/",
          "height": 34
        },
        "outputId": "fa855c9b-d956-471d-d7df-2a2395208576"
      },
      "source": [
        "S_v3(100), S_v3(10 ** 7)"
      ],
      "execution_count": 19,
      "outputs": [
        {
          "output_type": "execute_result",
          "data": {
            "text/plain": [
              "(389, 203222840)"
            ]
          },
          "metadata": {
            "tags": []
          },
          "execution_count": 19
        }
      ]
    },
    {
      "cell_type": "code",
      "metadata": {
        "id": "qtSUGwLSnZnw",
        "colab_type": "code",
        "colab": {
          "base_uri": "https://localhost:8080/",
          "height": 34
        },
        "outputId": "6508ea99-ea29-475a-c18f-73cbab618d93"
      },
      "source": [
        "S_v3(10 ** 16)"
      ],
      "execution_count": 20,
      "outputs": [
        {
          "output_type": "execute_result",
          "data": {
            "text/plain": [
              "501985601490518144"
            ]
          },
          "metadata": {
            "tags": []
          },
          "execution_count": 20
        }
      ]
    },
    {
      "cell_type": "code",
      "metadata": {
        "id": "zKjLOrKsnckK",
        "colab_type": "code",
        "colab": {}
      },
      "source": [
        ""
      ],
      "execution_count": 0,
      "outputs": []
    }
  ]
}