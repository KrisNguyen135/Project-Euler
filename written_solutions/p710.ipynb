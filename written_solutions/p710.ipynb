{
  "nbformat": 4,
  "nbformat_minor": 0,
  "metadata": {
    "colab": {
      "name": "p710.ipynb",
      "provenance": [],
      "collapsed_sections": [],
      "authorship_tag": "ABX9TyO5IC5uqNEd8/+ze2HxijJ+",
      "include_colab_link": true
    },
    "kernelspec": {
      "name": "python3",
      "display_name": "Python 3"
    }
  },
  "cells": [
    {
      "cell_type": "markdown",
      "metadata": {
        "id": "view-in-github",
        "colab_type": "text"
      },
      "source": [
        "<a href=\"https://colab.research.google.com/github/KrisNguyen135/Project-Euler/blob/master/written_solutions/p710.ipynb\" target=\"_parent\"><img src=\"https://colab.research.google.com/assets/colab-badge.svg\" alt=\"Open In Colab\"/></a>"
      ]
    },
    {
      "cell_type": "markdown",
      "metadata": {
        "id": "LbCOhr7aGq-G",
        "colab_type": "text"
      },
      "source": [
        "# Project Euler problem 710: One Million Members\n",
        "\n",
        "Link to the problem prompt: [https://projecteuler.net/problem=710](https://projecteuler.net/problem=710).\n",
        "\n",
        "Using dynamic programming, we can find an $O(n)$ way to compute $t(n)$. First, denote $s(n)$ as the number of palindromic tuples whose numbers sum to $n$, none of which equals $2$.\n",
        "\n",
        "Consider a given palindromic tuples whose numbers sum to $n$: the first and last numbers of the tuple are equal and can be any positive number between $1$ and $\\lfloor n / 2 \\rfloor$; omitting these two numbers, the remaining tuple is still palindromic. If the original two numbers, $k$, aren't $2$, then the remaining tuple is one that satisfies the given condition and whose numbers sum to $n - 2k$. If $k = 2$, the remaining tuple is allowed to have no $2$'s.\n",
        "\n",
        "We thus have the following recurrences:\n",
        "\n",
        "$$t(n) = t(n - 2) + \\left( t(n - 4) + s(n - 4) \\right) + t(n - 6) + t(n - 8) + \\cdots + t(n \\mod 2)$$\n",
        "and \n",
        "$$s(n) = s(n - 2) + s(n - 6) + s(n - 8) + \\cdots + s(n \\mod 2)$$\n",
        "\n",
        "With some algebra, we obtain:\n",
        "\n",
        "$$t(n) = 2t(n - 2) + s(n - 4) - s(n - 6)$$\n",
        "and\n",
        "$$s(n) = 2s(n - 2) - s(n - 4) + s(n - 6)$$\n",
        "\n",
        "In the `search()` function below, we keep growing the arrays $\\{t(i)\\}_{i = 0}^{\\infty}$ and $\\{s(i)\\}_{i = 0}^{\\infty}$ recursively until the first $t(n)$ divisible by $10^6$ is found. (Note that since only the most current 6 values of $t(n)$ and $s(n)$ are needed to compute the next $t(n)$ and $s(n)$, we only keep those values during the search.)\n",
        "\n",
        "(As a side note, from the recurrences, it is possible to prove that the total number of palindromic tuples whose numbers sum to $n$, $t(n) + s(n)$ is exactly $2^n$.)"
      ]
    },
    {
      "cell_type": "code",
      "metadata": {
        "id": "ssiA-g9p6l46",
        "colab_type": "code",
        "colab": {}
      },
      "source": [
        "import numpy as np\n",
        "\n",
        "\n",
        "MOD = 10 ** 6\n",
        "\n",
        "\n",
        "def search():\n",
        "    running_result = np.array([\n",
        "        [0, 0],\n",
        "        [0, 1], [1, 1],\n",
        "        [0, 2], [2, 2],\n",
        "        [1, 3], [4, 4],\n",
        "        [3, 5], [9, 7]\n",
        "    ])\n",
        "\n",
        "    count = running_result.shape[0]\n",
        "    while True:\n",
        "        temp_x_y = [\n",
        "            (2 * running_result[-2, 0] + running_result[-4, 1] - running_result[-6, 1]) % MOD,\n",
        "            (2 * running_result[-2, 1] - running_result[-4, 1] + running_result[-6, 1]) % MOD\n",
        "        ]\n",
        "\n",
        "        if temp_x_y[0] == 0:\n",
        "            break\n",
        "\n",
        "        running_result = np.vstack((running_result, temp_x_y))[-7:, :]\n",
        "\n",
        "        count += 1\n",
        "        if count % MOD == 0:\n",
        "            print(count, temp_x_y)\n",
        "    \n",
        "    print(count)"
      ],
      "execution_count": null,
      "outputs": []
    },
    {
      "cell_type": "code",
      "metadata": {
        "id": "jys6vbmj9LL2",
        "colab_type": "code",
        "colab": {
          "base_uri": "https://localhost:8080/",
          "height": 50
        },
        "outputId": "556d1e19-fb80-413c-9745-5ae3e47d3c2c"
      },
      "source": [
        "search()"
      ],
      "execution_count": null,
      "outputs": [
        {
          "output_type": "stream",
          "text": [
            "1000000 [581739, 972949]\n",
            "1275000\n"
          ],
          "name": "stdout"
        }
      ]
    },
    {
      "cell_type": "code",
      "metadata": {
        "id": "07ikY7lNC_MB",
        "colab_type": "code",
        "colab": {}
      },
      "source": [
        ""
      ],
      "execution_count": null,
      "outputs": []
    }
  ]
}