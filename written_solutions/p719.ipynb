{
  "nbformat": 4,
  "nbformat_minor": 0,
  "metadata": {
    "colab": {
      "name": "p719.ipynb",
      "provenance": [],
      "collapsed_sections": [],
      "authorship_tag": "ABX9TyM4zN9bUMs7i61boZaoydr5",
      "include_colab_link": true
    },
    "kernelspec": {
      "name": "python3",
      "display_name": "Python 3"
    }
  },
  "cells": [
    {
      "cell_type": "markdown",
      "metadata": {
        "id": "view-in-github",
        "colab_type": "text"
      },
      "source": [
        "<a href=\"https://colab.research.google.com/github/KrisNguyen135/Project-Euler/blob/master/written_solutions/p719.ipynb\" target=\"_parent\"><img src=\"https://colab.research.google.com/assets/colab-badge.svg\" alt=\"Open In Colab\"/></a>"
      ]
    },
    {
      "cell_type": "code",
      "metadata": {
        "id": "UNfZJmcPdtO8"
      },
      "source": [
        "from math import sqrt\n",
        "\n",
        "from tqdm import tqdm"
      ],
      "execution_count": 1,
      "outputs": []
    },
    {
      "cell_type": "code",
      "metadata": {
        "id": "7vwOrtjob8cr"
      },
      "source": [
        "def is_s(n, n_sqrt):\n",
        "    def recur_find(sum, string):\n",
        "        # print(sum, string)\n",
        "\n",
        "        if sum == int(string):\n",
        "            # print('found')\n",
        "            return True\n",
        "\n",
        "        if len(string) == 1:\n",
        "            # print('deadend')\n",
        "            return False\n",
        "        \n",
        "        for i in range(1, len(string)):\n",
        "            head = string[:i]\n",
        "            tail = string[i:]\n",
        "            # print(head, tail)\n",
        "            if recur_find(sum - int(head), tail):\n",
        "                return True\n",
        "        \n",
        "        # print('end')\n",
        "        return False\n",
        "\n",
        "    # n_sqrt = int(sqrt(n))\n",
        "    # if n != n_sqrt**2:\n",
        "    #     # print('not square')\n",
        "    #     return False\n",
        "\n",
        "    return recur_find(n_sqrt, str(n))"
      ],
      "execution_count": 2,
      "outputs": []
    },
    {
      "cell_type": "code",
      "metadata": {
        "colab": {
          "base_uri": "https://localhost:8080/"
        },
        "id": "DAJCr8iNP9P_",
        "outputId": "dee47b35-3c62-4e92-fa77-c86bcfc4bd58"
      },
      "source": [
        "n = 9801\n",
        "is_s(n, int(sqrt(n)))"
      ],
      "execution_count": 3,
      "outputs": [
        {
          "output_type": "execute_result",
          "data": {
            "text/plain": [
              "True"
            ]
          },
          "metadata": {
            "tags": []
          },
          "execution_count": 3
        }
      ]
    },
    {
      "cell_type": "code",
      "metadata": {
        "colab": {
          "base_uri": "https://localhost:8080/"
        },
        "id": "1_BTApXCQApF",
        "outputId": "816e74bd-da26-4628-eaef-5ae92c672bd5"
      },
      "source": [
        "limit = 10**6\n",
        "\n",
        "sum = 0\n",
        "\n",
        "for n_sqrt in tqdm(range(4, limit + 1)):\n",
        "    n = n_sqrt**2\n",
        "\n",
        "    if is_s(n, n_sqrt):\n",
        "        sum += n"
      ],
      "execution_count": 4,
      "outputs": [
        {
          "output_type": "stream",
          "text": [
            "100%|██████████| 999997/999997 [29:15<00:00, 569.61it/s]\n"
          ],
          "name": "stderr"
        }
      ]
    },
    {
      "cell_type": "code",
      "metadata": {
        "colab": {
          "base_uri": "https://localhost:8080/"
        },
        "id": "xefye5l4RMay",
        "outputId": "90db7317-9948-44f8-aa48-2775c4a7648f"
      },
      "source": [
        "sum"
      ],
      "execution_count": 5,
      "outputs": [
        {
          "output_type": "execute_result",
          "data": {
            "text/plain": [
              "128088830547982"
            ]
          },
          "metadata": {
            "tags": []
          },
          "execution_count": 5
        }
      ]
    },
    {
      "cell_type": "code",
      "metadata": {
        "id": "r0e_9cuHRUdE"
      },
      "source": [
        ""
      ],
      "execution_count": null,
      "outputs": []
    }
  ]
}